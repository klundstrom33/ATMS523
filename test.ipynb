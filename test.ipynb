{
 "cells": [
  {
   "cell_type": "code",
   "execution_count": 1,
   "id": "2019133b",
   "metadata": {},
   "outputs": [
    {
     "name": "stdout",
     "output_type": "stream",
     "text": [
      "Hi!\n"
     ]
    }
   ],
   "source": [
    "print('Hi!')"
   ]
  },
  {
   "cell_type": "code",
   "execution_count": 2,
   "id": "25442dee",
   "metadata": {},
   "outputs": [
    {
     "name": "stdout",
     "output_type": "stream",
     "text": [
      "2\n"
     ]
    }
   ],
   "source": [
    "one=1\n",
    "print(one+one)"
   ]
  },
  {
   "cell_type": "code",
   "execution_count": 2,
   "id": "27476d66",
   "metadata": {},
   "outputs": [
    {
     "name": "stdout",
     "output_type": "stream",
     "text": [
      "from computer\n"
     ]
    }
   ],
   "source": [
    "print('from computer')"
   ]
  },
  {
   "cell_type": "code",
   "execution_count": 3,
   "id": "a8692172",
   "metadata": {},
   "outputs": [
    {
     "name": "stdout",
     "output_type": "stream",
     "text": [
      "from computer\n"
     ]
    }
   ],
   "source": [
    "print('from computer')"
   ]
  },
  {
   "cell_type": "code",
   "execution_count": null,
   "id": "b1949c09",
   "metadata": {},
   "outputs": [],
   "source": []
  }
 ],
 "metadata": {
  "kernelspec": {
   "display_name": "base",
   "language": "python",
   "name": "python3"
  },
  "language_info": {
   "codemirror_mode": {
    "name": "ipython",
    "version": 3
   },
   "file_extension": ".py",
   "mimetype": "text/x-python",
   "name": "python",
   "nbconvert_exporter": "python",
   "pygments_lexer": "ipython3",
   "version": "3.9.13"
  }
 },
 "nbformat": 4,
 "nbformat_minor": 5
}
